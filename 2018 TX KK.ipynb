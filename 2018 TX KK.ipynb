{
 "cells": [
  {
   "cell_type": "code",
   "execution_count": 1,
   "metadata": {},
   "outputs": [],
   "source": [
    "import pandas as pd \n",
    "import lightgbm as lgb\n",
    "from sklearn.model_selection import train_test_split\n",
    "from sklearn.feature_extraction.text import CountVectorizer\n",
    "from sklearn.preprocessing import  OneHotEncoder,LabelEncoder\n",
    "from scipy import  sparse\n",
    "import os"
   ]
  },
  {
   "cell_type": "code",
   "execution_count": null,
   "metadata": {},
   "outputs": [],
   "source": [
    "ad_feature=pd.read_csv('../data/adFeature.csv')\n",
    "if os.path.exists('../data/userFeature.csv'):\n",
    "    user_feature=pd.read_csv('../data/userFeature.csv')\n",
    "else:\n",
    "    userFeature_data=[]\n",
    "    with open('../data/userFeature.csv','r') as f:\n",
    "        for i,line in enumerate(f):\n",
    "            line=line.strip().split('|')\n",
    "            userFeature_dict = {}\n",
    "            for each in line:\n",
    "                each_list=each.split(' ')\n",
    "                userFeature_dict[each_list[0]]=' '.join(each_list[1:])\n",
    "            userFeature_data.append(userFeature_dict)\n",
    "            if i%100000==0:\n",
    "                print(i)\n",
    "        user_feature = pd.DataFrame(userFeature_data)\n",
    "        user_feature.to_csv('../data/userFeature.csv', index=False)\n",
    "        del userFeature_data"
   ]
  },
  {
   "cell_type": "code",
   "execution_count": null,
   "metadata": {},
   "outputs": [],
   "source": [
    "train=pd.read_csv('../data/train.csv')\n",
    "predict=pd.read_csv('../data/test1.csv')\n",
    "train.loc[train['label']==-1,'label']=0\n",
    "priedict['label']=-1\n"
   ]
  },
  {
   "cell_type": "code",
   "execution_count": null,
   "metadata": {},
   "outputs": [],
   "source": [
    "data=pd.concat([train,predict])\n",
    "data=pd.merge(data,ad_feature,on='aid',how='left')\n",
    "data=pd.merge(data,user_feature,on='uid',how='left')\n",
    "data=data.fillna('-1')\n",
    "one_hot_feature=['LBS','age','carrier','consumptionAbility','education','gender','house','os','ct','marriageStatus','advertiserId','campaignId', 'creativeId',\n",
    "       'adCategoryId', 'productId', 'productType']\n",
    "vector_feature=['appIdAction','appIdInstall','interest1','interest2','interest3','interest4','interest5','kw1','kw2','kw3','topic1','topic2','topic3']"
   ]
  },
  {
   "cell_type": "code",
   "execution_count": null,
   "metadata": {},
   "outputs": [],
   "source": [
    "for feature in one_hot_feature:\n",
    "    try:\n",
    "        data[feature]=LabelEncoder().fit_transform(data[feature].apply(int))\n",
    "    except:\n",
    "        data[feature]=LabelEncoder().fit_transform(data[feature])"
   ]
  },
  {
   "cell_type": "code",
   "execution_count": null,
   "metadata": {},
   "outputs": [],
   "source": [
    "train=data[data.label!=-1]\n",
    "train_y=train.pop('label')\n",
    "# train, test, train_y, test_y = train_test_split(train,train_y,test_size=0.2, random_state=2018)\n",
    "test=data[data.label==-1]\n",
    "res=test[['aid','uid']]\n",
    "test=test.drop('label',axis=1)\n",
    "enc = OneHotEncoder()\n",
    "train_x=train[['creativeSize']]\n",
    "test_x=test[['creativeSize']]"
   ]
  },
  {
   "cell_type": "code",
   "execution_count": null,
   "metadata": {},
   "outputs": [],
   "source": [
    "for feature in one_hot_feature:\n",
    "    enc.fit(data[feature].values.reshape(-1,1))\n",
    "    train_a = cv.transform(train[feature])\n",
    "    test_a = cv.transform(test[feature])\n",
    "    train_x = sparse.hstack((train_x, train_a))\n",
    "    test_x = sparse.hstack((test_x, test_a))\n",
    "print('cv prepared !')"
   ]
  },
  {
   "cell_type": "code",
   "execution_count": null,
   "metadata": {},
   "outputs": [],
   "source": [
    "cv=CountVectorizer()\n",
    "for feature in vector_feature:\n",
    "    cv.fit(data[feature])\n",
    "    train_a = cv.transform(train[feature])\n",
    "    test_a = cv.transform(test[feature])\n",
    "    train_x = sparse.hstack((train_x, train_a))\n",
    "    test_x = sparse.hstack((test_x, test_a))\n",
    "print('cv prepared !')"
   ]
  },
  {
   "cell_type": "code",
   "execution_count": null,
   "metadata": {},
   "outputs": [],
   "source": [
    "def LGB_predict(train_x,train_y,test_x,res):\n",
    "    print(\"LGB MODEL\")\n",
    "    clf=lgb.LGBMClassifier(boosting_type='gbdt', num_leaves=31, reg_alpha=0.0, reg_lambda=1,\n",
    "        max_depth=-1, n_estimators=1000, objective='binary',\n",
    "        subsample=0.7, colsample_bytree=0.7, subsample_freq=1,\n",
    "        learning_rate=0.05, min_child_weight=50,random_state=2018,n_jobs=-1)\n",
    "    clf.fit(train_x, train_y,eval_set=[(train_x, train_y),(test_x,test_y)],eval_metric='auc',early_stopping_rounds=100)\n",
    "    # print(clf.feature_importances_)\n",
    "    return clf,clf.best_score_[ 'valid_1']['auc']"
   ]
  },
  {
   "cell_type": "code",
   "execution_count": null,
   "metadata": {},
   "outputs": [],
   "source": [
    "def LGB_predict(train_x,train_y,test_x,res):\n",
    "    print(\"LGB test\")\n",
    "    clf = lgb.LGBMClassifier(\n",
    "        boosting_type='gbdt', num_leaves=31, reg_alpha=0.0, reg_lambda=1,\n",
    "        max_depth=-1, n_estimators=1500, objective='binary',\n",
    "        subsample=0.7, colsample_bytree=0.7, subsample_freq=1,\n",
    "        learning_rate=0.05, min_child_weight=50, random_state=2018, n_jobs=-1\n",
    "    )\n",
    "    clf.fit(train_x, train_y, eval_set=[(train_x, train_y)], eval_metric='auc',early_stopping_rounds=100)\n",
    "    res['score'] = clf.predict_proba(test_x)[:,1]\n",
    "    res['score'] = res['score'].apply(lambda x: float('%.6f' % x))\n",
    "    res.to_csv('../data/submission.csv', index=False)\n",
    "    os.system('zip ../data/baseline.zip ../data/submission.csv')\n",
    "    return clf\n",
    "\n",
    "model=LGB_predict(train_x,train_y,test_x,res)"
   ]
  }
 ],
 "metadata": {
  "kernelspec": {
   "display_name": "Python 3",
   "language": "python",
   "name": "python3"
  },
  "language_info": {
   "codemirror_mode": {
    "name": "ipython",
    "version": 3
   },
   "file_extension": ".py",
   "mimetype": "text/x-python",
   "name": "python",
   "nbconvert_exporter": "python",
   "pygments_lexer": "ipython3",
   "version": "3.6.5"
  }
 },
 "nbformat": 4,
 "nbformat_minor": 2
}
